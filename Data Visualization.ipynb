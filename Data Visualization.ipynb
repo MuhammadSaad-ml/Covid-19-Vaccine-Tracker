{
 "cells": [
  {
   "cell_type": "markdown",
   "metadata": {},
   "source": [
    "##  Importing Libraries"
   ]
  },
  {
   "cell_type": "code",
   "execution_count": null,
   "metadata": {},
   "outputs": [],
   "source": [
    "import pandas as pd\n",
    "import seaborn as sns\n",
    "import matplotlib.pyplot as plt\n",
    "import plotly as px\n"
   ]
  },
  {
   "cell_type": "markdown",
   "metadata": {},
   "source": [
    "## Loading Data"
   ]
  },
  {
   "cell_type": "code",
   "execution_count": null,
   "metadata": {},
   "outputs": [],
   "source": [
    "sampled_data=pd.read_csv(\"Covid_sample.csv\")\n",
    "sampled_data.head(4)"
   ]
  },
  {
   "cell_type": "markdown",
   "metadata": {},
   "source": [
    "## Displaying Columns"
   ]
  },
  {
   "cell_type": "code",
   "execution_count": null,
   "metadata": {},
   "outputs": [],
   "source": [
    "sampled_data.columns"
   ]
  },
  {
   "cell_type": "markdown",
   "metadata": {},
   "source": [
    "## Dropping Column"
   ]
  },
  {
   "cell_type": "code",
   "execution_count": null,
   "metadata": {},
   "outputs": [],
   "source": [
    "sampled_data.drop(columns=['Unnamed: 0'], inplace=True)"
   ]
  },
  {
   "cell_type": "code",
   "execution_count": null,
   "metadata": {},
   "outputs": [],
   "source": [
    "sampled_data.columns"
   ]
  },
  {
   "cell_type": "markdown",
   "metadata": {},
   "source": [
    "## 📊 Visualizations Using Different PLOTS And Graphs"
   ]
  },
  {
   "cell_type": "markdown",
   "metadata": {},
   "source": [
    "## 📊 **Bar Plot: Visualizing Data in Heights**"
   ]
  },
  {
   "cell_type": "code",
   "execution_count": null,
   "metadata": {},
   "outputs": [],
   "source": [
    "import seaborn as sns\n",
    "\n",
    "# Bar chart for numerical columns grouped by 'Category'\n",
    "plt.figure(figsize=(12, 8))\n",
    "sns.set_theme(style=\"whitegrid\",color_codes=False)\n",
    "sns.barplot(x='continent', y='total_vaccinations', data=sampled_data, ci=None)\n",
    "plt.xlabel('continent')\n",
    "plt.ylabel('total_vaccinations')\n",
    "plt.title('Bar Chart')\n",
    "plt.show()\n"
   ]
  },
  {
   "cell_type": "markdown",
   "metadata": {},
   "source": [
    "# 📊 **Pair Plot: Visualizing Multivariate Relationships**\n"
   ]
  },
  {
   "cell_type": "code",
   "execution_count": null,
   "metadata": {},
   "outputs": [],
   "source": [
    "import seaborn as sns\n",
    "plt.figure(figsize=(10, 6))\n",
    "sns.set_theme(style=\"ticks\")\n",
    "\n",
    "\n",
    "sns.pairplot(sampled_data, hue=\"continent\")"
   ]
  },
  {
   "cell_type": "markdown",
   "metadata": {},
   "source": [
    "# 🎻 **Violin Plot: Visualizing Distribution and Density**"
   ]
  },
  {
   "cell_type": "code",
   "execution_count": null,
   "metadata": {},
   "outputs": [],
   "source": [
    "sns.set(style=\"whitegrid\")\n",
    "\n",
    "plt.figure(figsize=(12, 8))\n",
    "pl=sns.violinplot(x='continent', y='total_vaccinations', data=sampled_data,aspect=10,ci=None)\n",
    "pl=plt.show()"
   ]
  },
  {
   "cell_type": "markdown",
   "metadata": {},
   "source": [
    "# 📦 **Box Plot: Understanding Data Distribution and Variability**"
   ]
  },
  {
   "cell_type": "code",
   "execution_count": null,
   "metadata": {},
   "outputs": [],
   "source": [
    "plt.figure(figsize=(12, 8))\n",
    "box=sns.boxplot(x='continent', y='people_fully_vaccinated', data=sampled_data)\n",
    "box=plt.show()\n"
   ]
  },
  {
   "cell_type": "markdown",
   "metadata": {},
   "source": [
    "# 🥧 **Pie Chart: Visualizing Proportions and Percentages**"
   ]
  },
  {
   "cell_type": "code",
   "execution_count": null,
   "metadata": {},
   "outputs": [],
   "source": [
    "import plotly.express as px\n",
    "\n",
    "# Sample data (replace this with your DataFrame)\n",
    "# df = ...\n",
    "\n",
    "# Create a pie chart for the given columns\n",
    "fig = px.pie(sampled_data, values='total_vaccinations', names='continent', \n",
    "             title='Total Vaccinations by Continent', \n",
    "             labels={'total_vaccinations': 'Total Vaccinations'})\n",
    "fig.show()\n"
   ]
  },
  {
   "cell_type": "markdown",
   "metadata": {},
   "source": [
    "# 🌟 **Scatter Plot: Visualizing Relationships and Trends**\n"
   ]
  },
  {
   "cell_type": "code",
   "execution_count": null,
   "metadata": {},
   "outputs": [],
   "source": [
    "import plotly.express as px\n",
    "\n",
    "\n",
    "\n",
    "# Create a 3D scatter plot\n",
    "fig = px.scatter_3d(sampled_data,x='total_vaccinations',y= 'people_partially_vaccinated', z='people_fully_vaccinated', color='continent')\n",
    "fig.show()\n"
   ]
  },
  {
   "cell_type": "markdown",
   "metadata": {},
   "source": [
    "# 🗺️ **Map Chart: Explore the World with Data**\n"
   ]
  },
  {
   "cell_type": "code",
   "execution_count": null,
   "metadata": {},
   "outputs": [],
   "source": [
    "import plotly.express as px\n",
    "\n",
    "# Sample data (replace this with your DataFrame)\n",
    "# df = ...\n",
    "\n",
    "fig = px.choropleth(sampled_data, \n",
    "                    locations=\"location\",  # Country or region codes (can be a column in your DataFrame)\n",
    "                    locationmode='country names',  # Use 'ISO-3' for 3-letter country codes\n",
    "                    color=\"total_vaccinations\",  # Numerical values you want to represent with colors\n",
    "                    hover_name=\"continent\",  # Column to display when hovering over a location\n",
    "                    animation_frame=\"date\",  # Column representing time (for animation, if applicable)\n",
    "                    title=\"Total Vaccinations Choropleth Map\",\n",
    "                    color_continuous_scale=\"Viridis\",  # Choose a color scale\n",
    "                    projection=\"natural earth\")  # Choose a map projection\n",
    "\n",
    "fig.show()\n"
   ]
  },
  {
   "cell_type": "code",
   "execution_count": null,
   "metadata": {},
   "outputs": [],
   "source": [
    "import plotly.graph_objects as go\n",
    "from plotly.subplots import make_subplots\n",
    "import pandas as pd\n",
    "\n",
    "\n",
    "data = {\n",
    "    'continent': ['Asia', 'Europe', 'Europe', 'Asia', 'Africa'],\n",
    "    'location': ['Country A', 'Country B', 'Country C', 'Country D', 'Country E'],\n",
    "    'date': ['2021-01-01', '2021-01-02', '2021-01-03', '2021-01-04', '2021-01-05'],\n",
    "    'total_vaccinations': [1000, 1500, 1200, 800, 2000],\n",
    "    'people_partially_vaccinated': [300, 400, 350, 200, 600],\n",
    "    'people_fully_vaccinated': [200, 300, 250, 150, 400]\n",
    "}\n",
    "\n",
    "df = pd.DataFrame(sampled_data)\n",
    "\n",
    "# Initialize figure with subplots\n",
    "fig = make_subplots(\n",
    "    rows=2, cols=2,\n",
    "    column_widths=[0.6, 0.4],\n",
    "    row_heights=[0.4, 0.6],\n",
    "    specs=[[{\"type\": \"scattergeo\", \"rowspan\": 2}, {\"type\": \"bar\"}],\n",
    "           [None, {\"type\": \"surface\"}]])\n",
    "\n",
    "# Add scattergeo globe map of vaccination locations\n",
    "fig.add_trace(\n",
    "    go.Scattergeo(\n",
    "        lon=sampled_data['location'],  # Use 'location' as longitude for illustration purposes\n",
    "        lat=sampled_data['continent'],  # Use 'continent' as latitude for illustration purposes\n",
    "        mode=\"markers\",\n",
    "        hoverinfo=\"text\",\n",
    "        showlegend=False,\n",
    "        marker=dict(color=\"crimson\", size=10, opacity=0.8)),\n",
    "    row=1, col=1\n",
    ")\n",
    "\n",
    "# Add bar chart for total vaccinations by location\n",
    "fig.add_trace(\n",
    "    go.Bar(x=sampled_data['continent'], y=sampled_data['total_vaccinations'], marker=dict(color=\"crimson\"), showlegend=False),\n",
    "    row=1, col=2\n",
    ")\n",
    "\n",
    "# Add 3D surface of vaccination data\n",
    "fig.add_trace(\n",
    "    go.Surface(z=sampled_data[['total_vaccinations', 'people_partially_vaccinated', 'people_fully_vaccinated']].values.tolist(),\n",
    "              showscale=False),\n",
    "    row=2, col=2\n",
    ")\n",
    "\n",
    "# Update geo subplot properties\n",
    "fig.update_geos(\n",
    "    projection_type=\"orthographic\",\n",
    "    landcolor=\"white\",\n",
    "    oceancolor=\"MidnightBlue\",\n",
    "    showocean=True,\n",
    "    lakecolor=\"LightBlue\"\n",
    ")\n",
    "\n",
    "# Rotate x-axis labels\n",
    "fig.update_xaxes(tickangle=45)\n",
    "\n",
    "# Set theme, margin, and annotation in layout\n",
    "fig.update_layout(\n",
    "    template=\"plotly_white\",\n",
    "    margin=dict(r=10, t=25, b=40, l=60),\n",
    "    annotations=[\n",
    "        dict(\n",
    "            text=\"sampled_data\",\n",
    "            showarrow=False,\n",
    "            xref=\"paper\",\n",
    "            yref=\"paper\",\n",
    "            x=0,\n",
    "            y=0)\n",
    "    ]\n",
    ")\n",
    "\n",
    "fig.show()\n"
   ]
  },
  {
   "cell_type": "markdown",
   "metadata": {},
   "source": [
    "# 🌟 **Scatter Plot: Visualizing Relationships and Trends**\n"
   ]
  },
  {
   "cell_type": "code",
   "execution_count": null,
   "metadata": {},
   "outputs": [],
   "source": [
    "import plotly.express as px\n",
    "import pandas as pd\n",
    "\n",
    "\n",
    "data = {\n",
    "    'continent': ['Asia', 'Europe', 'Africa', 'Asia', 'Europe'],\n",
    "    'location': ['A', 'B', 'C', 'D', 'E'],\n",
    "    'date': ['2021-01-01', '2021-01-02', '2021-01-03', '2021-01-04', '2021-01-05'],\n",
    "    'total_vaccinations': [1000, 2000, 1500, 1800, 2500],\n",
    "    'people_partially_vaccinated': [300, 600, 500, 700, 900],\n",
    "    'people_fully_vaccinated': [700, 1400, 1000, 1100, 1600]\n",
    "}\n",
    "\n",
    "# Create a DataFrame from the sample data\n",
    "df = pd.DataFrame(sampled_data)\n",
    "\n",
    "# Create the scatter plot\n",
    "fig = px.scatter(df, \n",
    "                 x='total_vaccinations', \n",
    "                 y='people_fully_vaccinated', \n",
    "                 color='continent', \n",
    "                 hover_name='location', \n",
    "                 size='people_partially_vaccinated', \n",
    "                 title='Vaccination Data',\n",
    "                 labels={'total_vaccinations': 'Total Vaccinations', \n",
    "                         'people_fully_vaccinated': 'People Fully Vaccinated'})\n",
    "\n",
    "# Show the plot\n",
    "fig.show()\n"
   ]
  },
  {
   "cell_type": "markdown",
   "metadata": {},
   "source": [
    "# 📈 **Line Chart: Visualizing Trends Over Time**"
   ]
  },
  {
   "cell_type": "code",
   "execution_count": null,
   "metadata": {},
   "outputs": [],
   "source": [
    "import plotly.express as px\n",
    "\n",
    "data = {\n",
    "    'continent': ['A', 'B', 'C', 'D'],\n",
    "    'date': ['2021-01-01', '2021-01-02', '2021-01-03', '2021-01-04'],\n",
    "    'total_vaccinations': [1000, 2000, 1500, 1800],\n",
    "    'people_partially_vaccinated': [300, 600, 500, 700],\n",
    "    'people_fully_vaccinated': [700, 1400, 1000, 1100]\n",
    "}\n",
    "\n",
    "# Create DataFrame\n",
    "df = pd.DataFrame(sampled_data)\n",
    "\n",
    "fig = px.line(df, x='date', y=['total_vaccinations', 'people_partially_vaccinated', 'people_fully_vaccinated'],\n",
    "              color_discrete_map={'total_vaccinations': 'blue', 'people_partially_vaccinated': 'orange',\n",
    "                                   'people_fully_vaccinated': 'green'},\n",
    "              labels={'value': 'Number of People', 'variable': 'Vaccination Status'},\n",
    "              title='Vaccination Progress Over Time')\n",
    "fig.show()\n"
   ]
  },
  {
   "cell_type": "markdown",
   "metadata": {},
   "source": [
    "# 🔥 **Heatmap: Visualizing Data Intensity**"
   ]
  },
  {
   "cell_type": "code",
   "execution_count": null,
   "metadata": {},
   "outputs": [],
   "source": [
    "import seaborn as sns\n",
    "import matplotlib.pyplot as plt\n",
    "\n",
    "# Sample data (replace this with your actual data)\n",
    "data = {\n",
    "    'continent': ['A', 'B', 'C', 'D'],\n",
    "    'total_vaccinations': [1000, 2000, 1500, 1800],\n",
    "    'people_partially_vaccinated': [300, 600, 500, 700],\n",
    "    'people_fully_vaccinated': [700, 1400, 1000, 1100]\n",
    "}\n",
    "\n",
    "# Create DataFrame\n",
    "df = pd.DataFrame(sampled_data)\n",
    "\n",
    "plt.figure(figsize=(8, 6))\n",
    "sns.heatmap(df[['total_vaccinations', 'people_partially_vaccinated', 'people_fully_vaccinated']].corr(),\n",
    "            annot=True, cmap='coolwarm', fmt=\".2f\")\n",
    "plt.title('Correlation Heatmap')\n",
    "plt.show()\n"
   ]
  }
 ],
 "metadata": {
  "kernelspec": {
   "display_name": "Python 3",
   "language": "python",
   "name": "python3"
  },
  "language_info": {
   "codemirror_mode": {
    "name": "ipython",
    "version": 3
   },
   "file_extension": ".py",
   "mimetype": "text/x-python",
   "name": "python",
   "nbconvert_exporter": "python",
   "pygments_lexer": "ipython3",
   "version": "3.10.9"
  },
  "orig_nbformat": 4
 },
 "nbformat": 4,
 "nbformat_minor": 2
}
